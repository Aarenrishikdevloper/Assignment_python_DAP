{
 "cells": [
  {
   "cell_type": "code",
   "execution_count": 2,
   "id": "3f6261ca-2cab-41c9-aaf1-6f12e6629692",
   "metadata": {},
   "outputs": [
    {
     "name": "stdout",
     "output_type": "stream",
     "text": [
      "                 Region  Confirmed  Deaths  Recovered\n",
      "0           Afghanistan       1939      60        252\n",
      "1               Albania        766      30        455\n",
      "2               Algeria       3848     444       1702\n",
      "3               Andorra        743      42        423\n",
      "4                Angola         27       2          7\n",
      "..                  ...        ...     ...        ...\n",
      "182  West Bank and Gaza        344       2         71\n",
      "183      Western Sahara          6       0          5\n",
      "184               Yemen          6       0          1\n",
      "185              Zambia         97       3         54\n",
      "186            Zimbabwe         32       4          5\n",
      "\n",
      "[187 rows x 4 columns]\n"
     ]
    }
   ],
   "source": [
    "import pandas as pd  \n",
    "covid_data = pd.read_csv('COVID.csv')    \n",
    "grouped_data = covid_data.groupby('Region').agg({\n",
    "    'Confirmed':'sum',   \n",
    "    'Deaths':'sum',  \n",
    "    'Recovered':'sum'\n",
    "}).reset_index()  \n",
    "print(grouped_data)\n"
   ]
  },
  {
   "cell_type": "code",
   "execution_count": 3,
   "id": "4168ff10-6f2e-4256-b33d-dbea1a1388dc",
   "metadata": {},
   "outputs": [
    {
     "name": "stdout",
     "output_type": "stream",
     "text": [
      "                 Region  Confirmed  Deaths  Recovered\n",
      "0           Afghanistan       1939      60        252\n",
      "1               Albania        766      30        455\n",
      "2               Algeria       3848     444       1702\n",
      "3               Andorra        743      42        423\n",
      "4                Angola         27       2          7\n",
      "..                  ...        ...     ...        ...\n",
      "182  West Bank and Gaza        344       2         71\n",
      "183      Western Sahara          6       0          5\n",
      "184               Yemen          6       0          1\n",
      "185              Zambia         97       3         54\n",
      "186            Zimbabwe         32       4          5\n",
      "\n",
      "[187 rows x 4 columns]\n"
     ]
    }
   ],
   "source": [
    "import pandas as pd  \n",
    "covid_data = pd.read_csv('COVID.csv')  \n",
    "covid_data_filtered = covid_data[covid_data['Confirmed'] >=10]\n",
    "grouped_data = covid_data.groupby('Region').agg({\n",
    "    'Confirmed':'sum',   \n",
    "    'Deaths':'sum',  \n",
    "    'Recovered':'sum'\n",
    "}).reset_index()  \n",
    "print(grouped_data)"
   ]
  },
  {
   "cell_type": "code",
   "execution_count": 5,
   "id": "1e313b1e-e740-4dbb-bcde-d5592d5cd83a",
   "metadata": {},
   "outputs": [
    {
     "name": "stdout",
     "output_type": "stream",
     "text": [
      "US\n"
     ]
    }
   ],
   "source": [
    "import pandas as pd  \n",
    "covid_data = pd.read_csv('COVID.csv')    \n",
    "max_confiremed_cases = covid_data['Confirmed'].idxmax()   \n",
    "region = covid_data.loc[max_confiremed_cases, 'Region']  \n",
    "print(region)"
   ]
  },
  {
   "cell_type": "code",
   "execution_count": 6,
   "id": "23e1f056-4227-4753-888b-2ecb56039236",
   "metadata": {},
   "outputs": [
    {
     "name": "stdout",
     "output_type": "stream",
     "text": [
      "Canada\n"
     ]
    }
   ],
   "source": [
    "import pandas as pd  \n",
    "covid_data = pd.read_csv('COVID.csv')    \n",
    "min_confiremed_cases = covid_data['Confirmed'].idxmin()   \n",
    "region = covid_data.loc[min_confiremed_cases, 'Region']  \n",
    "print(region)"
   ]
  },
  {
   "cell_type": "code",
   "execution_count": 4,
   "id": "1332de1c-84b3-4b3f-86ab-654925c7b70a",
   "metadata": {},
   "outputs": [
    {
     "name": "stdout",
     "output_type": "stream",
     "text": [
      "Confirmed Cases 33062\n",
      "Death Cases 1079\n",
      "recovered Cases 8437\n"
     ]
    },
    {
     "name": "stderr",
     "output_type": "stream",
     "text": [
      "C:\\Users\\rishi\\AppData\\Local\\Temp\\ipykernel_14240\\235594294.py:1: DeprecationWarning: \n",
      "Pyarrow will become a required dependency of pandas in the next major release of pandas (pandas 3.0),\n",
      "(to allow more performant data types, such as the Arrow string type, and better interoperability with other libraries)\n",
      "but was not found to be installed on your system.\n",
      "If this would cause problems for you,\n",
      "please provide us feedback at https://github.com/pandas-dev/pandas/issues/54466\n",
      "        \n",
      "  import pandas as pd\n"
     ]
    }
   ],
   "source": [
    "import pandas as pd  \n",
    "covid_data = pd.read_csv('COVID.csv')     \n",
    "india_data = covid_data[(covid_data['Region'] == 'India') & (pd.to_datetime(covid_data['Date']) <= '2020-04-29')]\n",
    "\n",
    "condirmed_cases = india_data['Confirmed'].sum()   \n",
    "death_cases = india_data['Deaths'].sum()   \n",
    "recovered_cases = india_data['Recovered'].sum()  \n",
    "print('Confirmed Cases',condirmed_cases )   \n",
    "print('Death Cases', death_cases)     \n",
    "print('recovered Cases',recovered_cases )  \n",
    "\n"
   ]
  },
  {
   "cell_type": "code",
   "execution_count": 5,
   "id": "c4d4180e-f9fd-483f-9ad4-477b6b6f79ce",
   "metadata": {},
   "outputs": [
    {
     "name": "stdout",
     "output_type": "stream",
     "text": [
      "          Date                         State          Region  Confirmed  \\\n",
      "285  4/29/2020                     Recovered              US          0   \n",
      "284  4/29/2020                     Recovered          Canada          0   \n",
      "203  4/29/2020  Diamond Princess cruise ship          Canada          0   \n",
      "305  4/29/2020                         Tibet  Mainland China          1   \n",
      "289  4/29/2020     Saint Pierre and Miquelon          France          1   \n",
      "..         ...                           ...             ...        ...   \n",
      "57   4/29/2020                           NaN          France     165093   \n",
      "168  4/29/2020                           NaN              UK     165221   \n",
      "80   4/29/2020                           NaN           Italy     203591   \n",
      "153  4/29/2020                           NaN           Spain     236899   \n",
      "265  4/29/2020                      New York              US     299691   \n",
      "\n",
      "     Deaths  Recovered  \n",
      "285       0     120720  \n",
      "284       0      20327  \n",
      "203       1          0  \n",
      "305       0          1  \n",
      "289       0          0  \n",
      "..      ...        ...  \n",
      "57    24087      48228  \n",
      "168   26097          0  \n",
      "80    27682      71252  \n",
      "153   24275     132929  \n",
      "265   23477          0  \n",
      "\n",
      "[321 rows x 6 columns]\n"
     ]
    }
   ],
   "source": [
    "import pandas as pd  \n",
    "covid_data =  pd.read_csv('COVID.csv')    \n",
    "sorted_data = covid_data.sort_values(by='Confirmed',ascending=True)   \n",
    "print(sorted_data)"
   ]
  },
  {
   "cell_type": "code",
   "execution_count": 1,
   "id": "a89bc93c-7790-4d17-a266-6e5a45825b66",
   "metadata": {},
   "outputs": [
    {
     "name": "stdout",
     "output_type": "stream",
     "text": [
      "          Date                         State          Region  Confirmed  \\\n",
      "265  4/29/2020                      New York              US     299691   \n",
      "153  4/29/2020                           NaN           Spain     236899   \n",
      "80   4/29/2020                           NaN           Italy     203591   \n",
      "168  4/29/2020                           NaN              UK     165221   \n",
      "57   4/29/2020                           NaN          France     165093   \n",
      "..         ...                           ...             ...        ...   \n",
      "305  4/29/2020                         Tibet  Mainland China          1   \n",
      "289  4/29/2020     Saint Pierre and Miquelon          France          1   \n",
      "285  4/29/2020                     Recovered              US          0   \n",
      "284  4/29/2020                     Recovered          Canada          0   \n",
      "203  4/29/2020  Diamond Princess cruise ship          Canada          0   \n",
      "\n",
      "     Deaths  Recovered  \n",
      "265   23477          0  \n",
      "153   24275     132929  \n",
      "80    27682      71252  \n",
      "168   26097          0  \n",
      "57    24087      48228  \n",
      "..      ...        ...  \n",
      "305       0          1  \n",
      "289       0          0  \n",
      "285       0     120720  \n",
      "284       0      20327  \n",
      "203       1          0  \n",
      "\n",
      "[321 rows x 6 columns]\n"
     ]
    },
    {
     "name": "stderr",
     "output_type": "stream",
     "text": [
      "C:\\Users\\rishi\\AppData\\Local\\Temp\\ipykernel_4988\\1146143053.py:1: DeprecationWarning: \n",
      "Pyarrow will become a required dependency of pandas in the next major release of pandas (pandas 3.0),\n",
      "(to allow more performant data types, such as the Arrow string type, and better interoperability with other libraries)\n",
      "but was not found to be installed on your system.\n",
      "If this would cause problems for you,\n",
      "please provide us feedback at https://github.com/pandas-dev/pandas/issues/54466\n",
      "        \n",
      "  import pandas as pd\n"
     ]
    }
   ],
   "source": [
    "import pandas as pd  \n",
    "covid_data =  pd.read_csv('COVID.csv')    \n",
    "sorted_data = covid_data.sort_values(by='Confirmed',ascending=False)   \n",
    "print(sorted_data)"
   ]
  },
  {
   "cell_type": "code",
   "execution_count": null,
   "id": "e457c315-a39c-410a-8436-134680dcd8a3",
   "metadata": {},
   "outputs": [],
   "source": []
  }
 ],
 "metadata": {
  "kernelspec": {
   "display_name": "Python 3 (ipykernel)",
   "language": "python",
   "name": "python3"
  },
  "language_info": {
   "codemirror_mode": {
    "name": "ipython",
    "version": 3
   },
   "file_extension": ".py",
   "mimetype": "text/x-python",
   "name": "python",
   "nbconvert_exporter": "python",
   "pygments_lexer": "ipython3",
   "version": "3.9.1"
  }
 },
 "nbformat": 4,
 "nbformat_minor": 5
}
